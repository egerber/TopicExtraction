{
 "cells": [
  {
   "cell_type": "code",
   "execution_count": 1,
   "metadata": {},
   "outputs": [],
   "source": [
    "import pandas as pd\n",
    "import string"
   ]
  },
  {
   "cell_type": "code",
   "execution_count": 4,
   "metadata": {},
   "outputs": [],
   "source": [
    "df_news=pd.read_csv('/home/emanuel/Coding/TextProcessing/backend/data/datasets/bbc/news_group20_cleaned.csv')"
   ]
  },
  {
   "cell_type": "code",
   "execution_count": 12,
   "metadata": {},
   "outputs": [],
   "source": [
    "def remove_header(lines):\n",
    "    header_end=0\n",
    "    for i in range(len(lines)):\n",
    "        if lines[i]=='':\n",
    "            header_end=i\n",
    "            break\n",
    "    \n",
    "    if len(lines)>header_end+1:\n",
    "        return lines[header_end+1:]\n",
    "    else:\n",
    "        return lines[header_end:]\n",
    "\n",
    "def remove_special_chars(lines):\n",
    "    new_lines=[]\n",
    "    translation_dict={\n",
    "        '\\n':'',\n",
    "        '\\t':'',\n",
    "        '>':'',\n",
    "        '_':'',\n",
    "        '|':'',\n",
    "        '=':'',\n",
    "        '-':'',\n",
    "        '<':'',\n",
    "        '>':'',\n",
    "        '@':''\n",
    "    }\n",
    "\n",
    "    trans=str.maketrans(translation_dict)\n",
    "    for i in range(len(lines)):\n",
    "        cleaned=lines[i].translate(trans)\n",
    "        tokens=remove_empty_tokens(cleaned.split(' '))\n",
    "        new_lines.append(' '.join(tokens))\n",
    "        \n",
    "    return new_lines\n",
    "\n",
    "def remove_empty_tokens(tokens):\n",
    "    return list(filter(lambda token:len(token)>0,tokens))\n",
    "\n",
    "def filter_empty(lines):\n",
    "    return list(filter(lambda line:len(line)>0,lines))\n",
    "\n",
    "def preprocess_newsgroup20(original):\n",
    "    lines=original.split('\\n')\n",
    "    new_lines=remove_header(lines)\n",
    "    new_lines=remove_special_chars(new_lines)\n",
    "    new_lines=filter_empty(new_lines)\n",
    "    \n",
    "    return ' '.join(new_lines)"
   ]
  },
  {
   "cell_type": "code",
   "execution_count": 13,
   "metadata": {},
   "outputs": [],
   "source": [
    "df_news[\"cleaned\"]=[preprocess_newsgroup20(text) for text in df_news.text]"
   ]
  },
  {
   "cell_type": "code",
   "execution_count": 20,
   "metadata": {},
   "outputs": [],
   "source": [
    "df_news.to_csv('/home/emanuel/Coding/TopicModelingSeminar/newsgroup20_preprocessed.csv',index=False)"
   ]
  }
 ],
 "metadata": {
  "kernelspec": {
   "display_name": "Python 3",
   "language": "python",
   "name": "python3"
  },
  "language_info": {
   "codemirror_mode": {
    "name": "ipython",
    "version": 3
   },
   "file_extension": ".py",
   "mimetype": "text/x-python",
   "name": "python",
   "nbconvert_exporter": "python",
   "pygments_lexer": "ipython3",
   "version": "3.7.6"
  }
 },
 "nbformat": 4,
 "nbformat_minor": 4
}
